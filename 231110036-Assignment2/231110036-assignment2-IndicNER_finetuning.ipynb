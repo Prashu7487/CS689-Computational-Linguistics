{
 "cells": [
  {
   "cell_type": "markdown",
   "id": "f4782a65",
   "metadata": {
    "id": "f6b412c6"
   },
   "source": [
    "## Problem-2 part-2 Finetuning Indic BERT Model for NER classification:"
   ]
  },
  {
   "cell_type": "code",
   "execution_count": 1,
   "id": "ca8a7ca1",
   "metadata": {
    "colab": {
     "base_uri": "https://localhost:8080/"
    },
    "execution": {
     "iopub.execute_input": "2024-03-11T14:18:01.097936Z",
     "iopub.status.busy": "2024-03-11T14:18:01.097111Z",
     "iopub.status.idle": "2024-03-11T14:19:02.361373Z",
     "shell.execute_reply": "2024-03-11T14:19:02.360247Z",
     "shell.execute_reply.started": "2024-03-11T14:18:01.097888Z"
    },
    "id": "hcQtlWlOGY8F",
    "outputId": "c0c75a24-17ea-4b11-d7bb-6d261b599674"
   },
   "outputs": [
    {
     "name": "stdout",
     "output_type": "stream",
     "text": [
      "Requirement already satisfied: transformers in /opt/conda/lib/python3.10/site-packages (4.38.1)\n",
      "Requirement already satisfied: filelock in /opt/conda/lib/python3.10/site-packages (from transformers) (3.13.1)\n",
      "Requirement already satisfied: huggingface-hub<1.0,>=0.19.3 in /opt/conda/lib/python3.10/site-packages (from transformers) (0.20.3)\n",
      "Requirement already satisfied: numpy>=1.17 in /opt/conda/lib/python3.10/site-packages (from transformers) (1.26.4)\n",
      "Requirement already satisfied: packaging>=20.0 in /opt/conda/lib/python3.10/site-packages (from transformers) (21.3)\n",
      "Requirement already satisfied: pyyaml>=5.1 in /opt/conda/lib/python3.10/site-packages (from transformers) (6.0.1)\n",
      "Requirement already satisfied: regex!=2019.12.17 in /opt/conda/lib/python3.10/site-packages (from transformers) (2023.12.25)\n",
      "Requirement already satisfied: requests in /opt/conda/lib/python3.10/site-packages (from transformers) (2.31.0)\n",
      "Requirement already satisfied: tokenizers<0.19,>=0.14 in /opt/conda/lib/python3.10/site-packages (from transformers) (0.15.2)\n",
      "Requirement already satisfied: safetensors>=0.4.1 in /opt/conda/lib/python3.10/site-packages (from transformers) (0.4.2)\n",
      "Requirement already satisfied: tqdm>=4.27 in /opt/conda/lib/python3.10/site-packages (from transformers) (4.66.1)\n",
      "Requirement already satisfied: fsspec>=2023.5.0 in /opt/conda/lib/python3.10/site-packages (from huggingface-hub<1.0,>=0.19.3->transformers) (2024.2.0)\n",
      "Requirement already satisfied: typing-extensions>=3.7.4.3 in /opt/conda/lib/python3.10/site-packages (from huggingface-hub<1.0,>=0.19.3->transformers) (4.9.0)\n",
      "Requirement already satisfied: pyparsing!=3.0.5,>=2.0.2 in /opt/conda/lib/python3.10/site-packages (from packaging>=20.0->transformers) (3.1.1)\n",
      "Requirement already satisfied: charset-normalizer<4,>=2 in /opt/conda/lib/python3.10/site-packages (from requests->transformers) (3.3.2)\n",
      "Requirement already satisfied: idna<4,>=2.5 in /opt/conda/lib/python3.10/site-packages (from requests->transformers) (3.6)\n",
      "Requirement already satisfied: urllib3<3,>=1.21.1 in /opt/conda/lib/python3.10/site-packages (from requests->transformers) (1.26.18)\n",
      "Requirement already satisfied: certifi>=2017.4.17 in /opt/conda/lib/python3.10/site-packages (from requests->transformers) (2024.2.2)\n",
      "Requirement already satisfied: torch in /opt/conda/lib/python3.10/site-packages (2.1.2)\n",
      "Requirement already satisfied: filelock in /opt/conda/lib/python3.10/site-packages (from torch) (3.13.1)\n",
      "Requirement already satisfied: typing-extensions in /opt/conda/lib/python3.10/site-packages (from torch) (4.9.0)\n",
      "Requirement already satisfied: sympy in /opt/conda/lib/python3.10/site-packages (from torch) (1.12)\n",
      "Requirement already satisfied: networkx in /opt/conda/lib/python3.10/site-packages (from torch) (3.2.1)\n",
      "Requirement already satisfied: jinja2 in /opt/conda/lib/python3.10/site-packages (from torch) (3.1.2)\n",
      "Requirement already satisfied: fsspec in /opt/conda/lib/python3.10/site-packages (from torch) (2024.2.0)\n",
      "Requirement already satisfied: MarkupSafe>=2.0 in /opt/conda/lib/python3.10/site-packages (from jinja2->torch) (2.1.3)\n",
      "Requirement already satisfied: mpmath>=0.19 in /opt/conda/lib/python3.10/site-packages (from sympy->torch) (1.3.0)\n",
      "Requirement already satisfied: datasets in /opt/conda/lib/python3.10/site-packages (2.1.0)\n",
      "Requirement already satisfied: numpy>=1.17 in /opt/conda/lib/python3.10/site-packages (from datasets) (1.26.4)\n",
      "Requirement already satisfied: pyarrow>=5.0.0 in /opt/conda/lib/python3.10/site-packages (from datasets) (11.0.0)\n",
      "Requirement already satisfied: dill in /opt/conda/lib/python3.10/site-packages (from datasets) (0.3.8)\n",
      "Requirement already satisfied: pandas in /opt/conda/lib/python3.10/site-packages (from datasets) (2.1.4)\n",
      "Requirement already satisfied: requests>=2.19.0 in /opt/conda/lib/python3.10/site-packages (from datasets) (2.31.0)\n",
      "Requirement already satisfied: tqdm>=4.62.1 in /opt/conda/lib/python3.10/site-packages (from datasets) (4.66.1)\n",
      "Requirement already satisfied: xxhash in /opt/conda/lib/python3.10/site-packages (from datasets) (3.4.1)\n",
      "Requirement already satisfied: multiprocess in /opt/conda/lib/python3.10/site-packages (from datasets) (0.70.16)\n",
      "Requirement already satisfied: fsspec>=2021.05.0 in /opt/conda/lib/python3.10/site-packages (from fsspec[http]>=2021.05.0->datasets) (2024.2.0)\n",
      "Requirement already satisfied: aiohttp in /opt/conda/lib/python3.10/site-packages (from datasets) (3.9.1)\n",
      "Requirement already satisfied: huggingface-hub<1.0.0,>=0.1.0 in /opt/conda/lib/python3.10/site-packages (from datasets) (0.20.3)\n",
      "Requirement already satisfied: packaging in /opt/conda/lib/python3.10/site-packages (from datasets) (21.3)\n",
      "Requirement already satisfied: responses<0.19 in /opt/conda/lib/python3.10/site-packages (from datasets) (0.18.0)\n",
      "Requirement already satisfied: attrs>=17.3.0 in /opt/conda/lib/python3.10/site-packages (from aiohttp->datasets) (23.2.0)\n",
      "Requirement already satisfied: multidict<7.0,>=4.5 in /opt/conda/lib/python3.10/site-packages (from aiohttp->datasets) (6.0.4)\n",
      "Requirement already satisfied: yarl<2.0,>=1.0 in /opt/conda/lib/python3.10/site-packages (from aiohttp->datasets) (1.9.3)\n",
      "Requirement already satisfied: frozenlist>=1.1.1 in /opt/conda/lib/python3.10/site-packages (from aiohttp->datasets) (1.4.1)\n",
      "Requirement already satisfied: aiosignal>=1.1.2 in /opt/conda/lib/python3.10/site-packages (from aiohttp->datasets) (1.3.1)\n",
      "Requirement already satisfied: async-timeout<5.0,>=4.0 in /opt/conda/lib/python3.10/site-packages (from aiohttp->datasets) (4.0.3)\n",
      "Requirement already satisfied: filelock in /opt/conda/lib/python3.10/site-packages (from huggingface-hub<1.0.0,>=0.1.0->datasets) (3.13.1)\n",
      "Requirement already satisfied: pyyaml>=5.1 in /opt/conda/lib/python3.10/site-packages (from huggingface-hub<1.0.0,>=0.1.0->datasets) (6.0.1)\n",
      "Requirement already satisfied: typing-extensions>=3.7.4.3 in /opt/conda/lib/python3.10/site-packages (from huggingface-hub<1.0.0,>=0.1.0->datasets) (4.9.0)\n",
      "Requirement already satisfied: pyparsing!=3.0.5,>=2.0.2 in /opt/conda/lib/python3.10/site-packages (from packaging->datasets) (3.1.1)\n",
      "Requirement already satisfied: charset-normalizer<4,>=2 in /opt/conda/lib/python3.10/site-packages (from requests>=2.19.0->datasets) (3.3.2)\n",
      "Requirement already satisfied: idna<4,>=2.5 in /opt/conda/lib/python3.10/site-packages (from requests>=2.19.0->datasets) (3.6)\n",
      "Requirement already satisfied: urllib3<3,>=1.21.1 in /opt/conda/lib/python3.10/site-packages (from requests>=2.19.0->datasets) (1.26.18)\n",
      "Requirement already satisfied: certifi>=2017.4.17 in /opt/conda/lib/python3.10/site-packages (from requests>=2.19.0->datasets) (2024.2.2)\n",
      "Requirement already satisfied: python-dateutil>=2.8.2 in /opt/conda/lib/python3.10/site-packages (from pandas->datasets) (2.8.2)\n",
      "Requirement already satisfied: pytz>=2020.1 in /opt/conda/lib/python3.10/site-packages (from pandas->datasets) (2023.3.post1)\n",
      "Requirement already satisfied: tzdata>=2022.1 in /opt/conda/lib/python3.10/site-packages (from pandas->datasets) (2023.4)\n",
      "Requirement already satisfied: six>=1.5 in /opt/conda/lib/python3.10/site-packages (from python-dateutil>=2.8.2->pandas->datasets) (1.16.0)\n",
      "Requirement already satisfied: scikit-learn in /opt/conda/lib/python3.10/site-packages (1.2.2)\n",
      "Requirement already satisfied: numpy>=1.17.3 in /opt/conda/lib/python3.10/site-packages (from scikit-learn) (1.26.4)\n",
      "Requirement already satisfied: scipy>=1.3.2 in /opt/conda/lib/python3.10/site-packages (from scikit-learn) (1.11.4)\n",
      "Requirement already satisfied: joblib>=1.1.1 in /opt/conda/lib/python3.10/site-packages (from scikit-learn) (1.3.2)\n",
      "Requirement already satisfied: threadpoolctl>=2.0.0 in /opt/conda/lib/python3.10/site-packages (from scikit-learn) (3.2.0)\n",
      "Requirement already satisfied: accelerate in /opt/conda/lib/python3.10/site-packages (0.27.2)\n",
      "Requirement already satisfied: numpy>=1.17 in /opt/conda/lib/python3.10/site-packages (from accelerate) (1.26.4)\n",
      "Requirement already satisfied: packaging>=20.0 in /opt/conda/lib/python3.10/site-packages (from accelerate) (21.3)\n",
      "Requirement already satisfied: psutil in /opt/conda/lib/python3.10/site-packages (from accelerate) (5.9.3)\n",
      "Requirement already satisfied: pyyaml in /opt/conda/lib/python3.10/site-packages (from accelerate) (6.0.1)\n",
      "Requirement already satisfied: torch>=1.10.0 in /opt/conda/lib/python3.10/site-packages (from accelerate) (2.1.2)\n",
      "Requirement already satisfied: huggingface-hub in /opt/conda/lib/python3.10/site-packages (from accelerate) (0.20.3)\n",
      "Requirement already satisfied: safetensors>=0.3.1 in /opt/conda/lib/python3.10/site-packages (from accelerate) (0.4.2)\n",
      "Requirement already satisfied: pyparsing!=3.0.5,>=2.0.2 in /opt/conda/lib/python3.10/site-packages (from packaging>=20.0->accelerate) (3.1.1)\n",
      "Requirement already satisfied: filelock in /opt/conda/lib/python3.10/site-packages (from torch>=1.10.0->accelerate) (3.13.1)\n",
      "Requirement already satisfied: typing-extensions in /opt/conda/lib/python3.10/site-packages (from torch>=1.10.0->accelerate) (4.9.0)\n",
      "Requirement already satisfied: sympy in /opt/conda/lib/python3.10/site-packages (from torch>=1.10.0->accelerate) (1.12)\n",
      "Requirement already satisfied: networkx in /opt/conda/lib/python3.10/site-packages (from torch>=1.10.0->accelerate) (3.2.1)\n",
      "Requirement already satisfied: jinja2 in /opt/conda/lib/python3.10/site-packages (from torch>=1.10.0->accelerate) (3.1.2)\n",
      "Requirement already satisfied: fsspec in /opt/conda/lib/python3.10/site-packages (from torch>=1.10.0->accelerate) (2024.2.0)\n",
      "Requirement already satisfied: requests in /opt/conda/lib/python3.10/site-packages (from huggingface-hub->accelerate) (2.31.0)\n",
      "Requirement already satisfied: tqdm>=4.42.1 in /opt/conda/lib/python3.10/site-packages (from huggingface-hub->accelerate) (4.66.1)\n",
      "Requirement already satisfied: MarkupSafe>=2.0 in /opt/conda/lib/python3.10/site-packages (from jinja2->torch>=1.10.0->accelerate) (2.1.3)\n",
      "Requirement already satisfied: charset-normalizer<4,>=2 in /opt/conda/lib/python3.10/site-packages (from requests->huggingface-hub->accelerate) (3.3.2)\n",
      "Requirement already satisfied: idna<4,>=2.5 in /opt/conda/lib/python3.10/site-packages (from requests->huggingface-hub->accelerate) (3.6)\n",
      "Requirement already satisfied: urllib3<3,>=1.21.1 in /opt/conda/lib/python3.10/site-packages (from requests->huggingface-hub->accelerate) (1.26.18)\n",
      "Requirement already satisfied: certifi>=2017.4.17 in /opt/conda/lib/python3.10/site-packages (from requests->huggingface-hub->accelerate) (2024.2.2)\n",
      "Requirement already satisfied: mpmath>=0.19 in /opt/conda/lib/python3.10/site-packages (from sympy->torch>=1.10.0->accelerate) (1.3.0)\n"
     ]
    }
   ],
   "source": [
    "!pip install transformers\n",
    "!pip install torch\n",
    "!pip install datasets\n",
    "!pip install scikit-learn\n",
    "!pip install accelerate"
   ]
  },
  {
   "cell_type": "markdown",
   "id": "51b09a5d",
   "metadata": {},
   "source": [
    "### Importing required libraries-"
   ]
  },
  {
   "cell_type": "code",
   "execution_count": 2,
   "id": "86443f41",
   "metadata": {
    "execution": {
     "iopub.execute_input": "2024-03-11T14:19:02.363559Z",
     "iopub.status.busy": "2024-03-11T14:19:02.363244Z",
     "iopub.status.idle": "2024-03-11T14:19:19.315923Z",
     "shell.execute_reply": "2024-03-11T14:19:19.315111Z",
     "shell.execute_reply.started": "2024-03-11T14:19:02.363531Z"
    },
    "id": "d404513e"
   },
   "outputs": [
    {
     "name": "stderr",
     "output_type": "stream",
     "text": [
      "2024-03-11 14:19:10.887079: E external/local_xla/xla/stream_executor/cuda/cuda_dnn.cc:9261] Unable to register cuDNN factory: Attempting to register factory for plugin cuDNN when one has already been registered\n",
      "2024-03-11 14:19:10.887228: E external/local_xla/xla/stream_executor/cuda/cuda_fft.cc:607] Unable to register cuFFT factory: Attempting to register factory for plugin cuFFT when one has already been registered\n",
      "2024-03-11 14:19:11.009461: E external/local_xla/xla/stream_executor/cuda/cuda_blas.cc:1515] Unable to register cuBLAS factory: Attempting to register factory for plugin cuBLAS when one has already been registered\n"
     ]
    }
   ],
   "source": [
    "from transformers import AutoTokenizer, AutoModelForTokenClassification, Trainer, TrainingArguments\n",
    "import torch\n",
    "from datasets import Dataset\n",
    "import json\n",
    "import time\n",
    "from sklearn.metrics import f1_score\n",
    "import numpy as np"
   ]
  },
  {
   "cell_type": "code",
   "execution_count": 3,
   "id": "0eed5c50",
   "metadata": {
    "colab": {
     "base_uri": "https://localhost:8080/"
    },
    "execution": {
     "iopub.execute_input": "2024-03-11T14:19:19.317801Z",
     "iopub.status.busy": "2024-03-11T14:19:19.317085Z",
     "iopub.status.idle": "2024-03-11T14:19:19.322042Z",
     "shell.execute_reply": "2024-03-11T14:19:19.321046Z",
     "shell.execute_reply.started": "2024-03-11T14:19:19.317771Z"
    },
    "id": "heWcpcumGe_A",
    "outputId": "b266cd3a-bca5-4b58-839e-7542a6db4bbf"
   },
   "outputs": [],
   "source": [
    "# from google.colab import drive\n",
    "# drive.mount('/content/drive')"
   ]
  },
  {
   "cell_type": "markdown",
   "id": "54ded341",
   "metadata": {},
   "source": [
    "### Loading dataset:"
   ]
  },
  {
   "cell_type": "code",
   "execution_count": 4,
   "id": "fe039337",
   "metadata": {
    "colab": {
     "base_uri": "https://localhost:8080/"
    },
    "execution": {
     "iopub.execute_input": "2024-03-11T14:19:19.324877Z",
     "iopub.status.busy": "2024-03-11T14:19:19.324512Z",
     "iopub.status.idle": "2024-03-11T14:23:01.290859Z",
     "shell.execute_reply": "2024-03-11T14:23:01.289961Z",
     "shell.execute_reply.started": "2024-03-11T14:19:19.324844Z"
    },
    "id": "48ef4ebf",
    "outputId": "cee98dae-4286-4642-f30c-28bb15c9184d"
   },
   "outputs": [
    {
     "data": {
      "application/vnd.jupyter.widget-view+json": {
       "model_id": "2280fbe19b5c4ac5831a0dc48c373731",
       "version_major": 2,
       "version_minor": 0
      },
      "text/plain": [
       "Downloading builder script:   0%|          | 0.00/2.86k [00:00<?, ?B/s]"
      ]
     },
     "metadata": {},
     "output_type": "display_data"
    },
    {
     "name": "stdout",
     "output_type": "stream",
     "text": [
      "Downloading and preparing dataset naamapadam_pr/hi to /root/.cache/huggingface/datasets/ai4bharat___naamapadam_pr/hi/1.0.0/99b5ec77eabfaa3fbff510d8cf70d7c34519486cb7dbee99ede19474ddff9b20...\n"
     ]
    },
    {
     "data": {
      "application/vnd.jupyter.widget-view+json": {
       "model_id": "275d39890c814fa683d25b5e047d7308",
       "version_major": 2,
       "version_minor": 0
      },
      "text/plain": [
       "Downloading data:   0%|          | 0.00/82.3M [00:00<?, ?B/s]"
      ]
     },
     "metadata": {},
     "output_type": "display_data"
    },
    {
     "data": {
      "application/vnd.jupyter.widget-view+json": {
       "model_id": "",
       "version_major": 2,
       "version_minor": 0
      },
      "text/plain": [
       "Generating train split: 0 examples [00:00, ? examples/s]"
      ]
     },
     "metadata": {},
     "output_type": "display_data"
    },
    {
     "data": {
      "application/vnd.jupyter.widget-view+json": {
       "model_id": "",
       "version_major": 2,
       "version_minor": 0
      },
      "text/plain": [
       "Generating test split: 0 examples [00:00, ? examples/s]"
      ]
     },
     "metadata": {},
     "output_type": "display_data"
    },
    {
     "data": {
      "application/vnd.jupyter.widget-view+json": {
       "model_id": "",
       "version_major": 2,
       "version_minor": 0
      },
      "text/plain": [
       "Generating validation split: 0 examples [00:00, ? examples/s]"
      ]
     },
     "metadata": {},
     "output_type": "display_data"
    },
    {
     "name": "stdout",
     "output_type": "stream",
     "text": [
      "Dataset naamapadam_pr downloaded and prepared to /root/.cache/huggingface/datasets/ai4bharat___naamapadam_pr/hi/1.0.0/99b5ec77eabfaa3fbff510d8cf70d7c34519486cb7dbee99ede19474ddff9b20. Subsequent calls will reuse this data.\n"
     ]
    },
    {
     "data": {
      "application/vnd.jupyter.widget-view+json": {
       "model_id": "3ab6c0dd2ea0419aa44ccd743344f496",
       "version_major": 2,
       "version_minor": 0
      },
      "text/plain": [
       "  0%|          | 0/3 [00:00<?, ?it/s]"
      ]
     },
     "metadata": {},
     "output_type": "display_data"
    },
    {
     "name": "stdout",
     "output_type": "stream",
     "text": [
      "DatasetDict({\n",
      "    train: Dataset({\n",
      "        features: ['tokens', 'ner_tags'],\n",
      "        num_rows: 985787\n",
      "    })\n",
      "    test: Dataset({\n",
      "        features: ['tokens', 'ner_tags'],\n",
      "        num_rows: 867\n",
      "    })\n",
      "    validation: Dataset({\n",
      "        features: ['tokens', 'ner_tags'],\n",
      "        num_rows: 13460\n",
      "    })\n",
      "})\n",
      "CPU times: user 3min 34s, sys: 2.97 s, total: 3min 37s\n",
      "Wall time: 3min 41s\n"
     ]
    }
   ],
   "source": [
    "%%time\n",
    "from datasets import load_dataset\n",
    "# data = load_dataset('/content/drive/MyDrive/hi_IndicNER_v1.0')\n",
    "\n",
    "from datasets import load_dataset\n",
    "\n",
    "data = load_dataset('ai4bharat/naamapadam', 'hi')\n",
    "print(data)"
   ]
  },
  {
   "cell_type": "code",
   "execution_count": 5,
   "id": "9db3c774",
   "metadata": {
    "colab": {
     "base_uri": "https://localhost:8080/"
    },
    "execution": {
     "iopub.execute_input": "2024-03-11T14:23:01.292547Z",
     "iopub.status.busy": "2024-03-11T14:23:01.292157Z",
     "iopub.status.idle": "2024-03-11T14:23:01.298318Z",
     "shell.execute_reply": "2024-03-11T14:23:01.297286Z",
     "shell.execute_reply.started": "2024-03-11T14:23:01.292513Z"
    },
    "id": "284f83ba",
    "outputId": "b28e5441-c431-43d4-a4a5-b785ceb34ab9"
   },
   "outputs": [
    {
     "name": "stdout",
     "output_type": "stream",
     "text": [
      "Dataset({\n",
      "    features: ['tokens', 'ner_tags'],\n",
      "    num_rows: 867\n",
      "})\n"
     ]
    }
   ],
   "source": [
    "print(data['test'])"
   ]
  },
  {
   "cell_type": "markdown",
   "id": "9bec98da",
   "metadata": {},
   "source": [
    "### Importing Tokenizers and Models from ai4bharat:"
   ]
  },
  {
   "cell_type": "code",
   "execution_count": 6,
   "id": "aab0f451",
   "metadata": {
    "execution": {
     "iopub.execute_input": "2024-03-11T14:23:01.299883Z",
     "iopub.status.busy": "2024-03-11T14:23:01.299544Z",
     "iopub.status.idle": "2024-03-11T14:23:23.451249Z",
     "shell.execute_reply": "2024-03-11T14:23:23.450236Z",
     "shell.execute_reply.started": "2024-03-11T14:23:01.299856Z"
    },
    "id": "f202ce5a"
   },
   "outputs": [
    {
     "data": {
      "application/vnd.jupyter.widget-view+json": {
       "model_id": "ff7e46ea21b94e549569aad5d36c1096",
       "version_major": 2,
       "version_minor": 0
      },
      "text/plain": [
       "tokenizer_config.json:   0%|          | 0.00/346 [00:00<?, ?B/s]"
      ]
     },
     "metadata": {},
     "output_type": "display_data"
    },
    {
     "data": {
      "application/vnd.jupyter.widget-view+json": {
       "model_id": "a5320de06b0e4a9998aa6024259bea40",
       "version_major": 2,
       "version_minor": 0
      },
      "text/plain": [
       "vocab.txt:   0%|          | 0.00/872k [00:00<?, ?B/s]"
      ]
     },
     "metadata": {},
     "output_type": "display_data"
    },
    {
     "data": {
      "application/vnd.jupyter.widget-view+json": {
       "model_id": "a592d8def9d0495384f7b0f3c7aa9835",
       "version_major": 2,
       "version_minor": 0
      },
      "text/plain": [
       "tokenizer.json:   0%|          | 0.00/1.72M [00:00<?, ?B/s]"
      ]
     },
     "metadata": {},
     "output_type": "display_data"
    },
    {
     "data": {
      "application/vnd.jupyter.widget-view+json": {
       "model_id": "7e6ca2e56bce4018b4f8b3ece1d27f81",
       "version_major": 2,
       "version_minor": 0
      },
      "text/plain": [
       "special_tokens_map.json:   0%|          | 0.00/112 [00:00<?, ?B/s]"
      ]
     },
     "metadata": {},
     "output_type": "display_data"
    },
    {
     "data": {
      "application/vnd.jupyter.widget-view+json": {
       "model_id": "0ea85b8c44144581a48ebde68be51cb5",
       "version_major": 2,
       "version_minor": 0
      },
      "text/plain": [
       "config.json:   0%|          | 0.00/1.19k [00:00<?, ?B/s]"
      ]
     },
     "metadata": {},
     "output_type": "display_data"
    },
    {
     "data": {
      "application/vnd.jupyter.widget-view+json": {
       "model_id": "946c6636871e407d92005db658368d3f",
       "version_major": 2,
       "version_minor": 0
      },
      "text/plain": [
       "pytorch_model.bin:   0%|          | 0.00/667M [00:00<?, ?B/s]"
      ]
     },
     "metadata": {},
     "output_type": "display_data"
    },
    {
     "name": "stderr",
     "output_type": "stream",
     "text": [
      "/opt/conda/lib/python3.10/site-packages/torch/_utils.py:831: UserWarning: TypedStorage is deprecated. It will be removed in the future and UntypedStorage will be the only storage class. This should only matter to you if you are using storages directly.  To access UntypedStorage directly, use tensor.untyped_storage() instead of tensor.storage()\n",
      "  return self.fget.__get__(instance, owner)()\n"
     ]
    }
   ],
   "source": [
    "tokenizer_ner = AutoTokenizer.from_pretrained(\"ai4bharat/IndicNER\")\n",
    "model_ner = AutoModelForTokenClassification.from_pretrained(\"ai4bharat/IndicNER\")"
   ]
  },
  {
   "cell_type": "code",
   "execution_count": 7,
   "id": "0c353487",
   "metadata": {
    "execution": {
     "iopub.execute_input": "2024-03-11T14:23:23.453150Z",
     "iopub.status.busy": "2024-03-11T14:23:23.452780Z",
     "iopub.status.idle": "2024-03-11T14:23:23.787671Z",
     "shell.execute_reply": "2024-03-11T14:23:23.786683Z",
     "shell.execute_reply.started": "2024-03-11T14:23:23.453113Z"
    },
    "id": "0e6e11fc"
   },
   "outputs": [],
   "source": [
    "device = torch.device('cuda:0' if torch.cuda.is_available() else 'cpu')\n",
    "model_ner = model_ner.to(device)"
   ]
  },
  {
   "cell_type": "markdown",
   "id": "e96a83c4",
   "metadata": {},
   "source": [
    "### Function to Tokenize data and assign corresponding labels with data:"
   ]
  },
  {
   "cell_type": "code",
   "execution_count": 8,
   "id": "dc598f74",
   "metadata": {
    "execution": {
     "iopub.execute_input": "2024-03-11T14:23:23.789185Z",
     "iopub.status.busy": "2024-03-11T14:23:23.788909Z",
     "iopub.status.idle": "2024-03-11T14:23:23.797055Z",
     "shell.execute_reply": "2024-03-11T14:23:23.796124Z",
     "shell.execute_reply.started": "2024-03-11T14:23:23.789160Z"
    }
   },
   "outputs": [],
   "source": [
    "padding = \"max_length\"\n",
    "text_column_name = 'tokens'\n",
    "label_column_name = 'ner_tags'\n",
    "\n",
    "# Map NER labels to numerical values\n",
    "label_mapping = {'O': 0, 'B-ORG': 1, 'I-ORG': 2, 'B-PER': 3, 'I-PER': 4, 'B-LOC': 5, 'I-LOC': 6}\n",
    "\n",
    "def tokenize_and_align_labels(examples):\n",
    "    tokenized_inputs = tokenizer_ner(\n",
    "        examples[text_column_name],\n",
    "        truncation=True,\n",
    "        padding = padding,\n",
    "        is_split_into_words=True,\n",
    "    )\n",
    "    labels = []\n",
    "    for i, label in enumerate(examples[label_column_name]):\n",
    "        word_ids = tokenized_inputs.word_ids(batch_index=i)\n",
    "\n",
    "        previous_word_idx = None\n",
    "        label_ids = []\n",
    "        for word_idx in word_ids:\n",
    "            if word_idx is None:\n",
    "                label_ids.append(-100)\n",
    "            elif word_idx != previous_word_idx:\n",
    "                label_ids.append(label[word_idx])\n",
    "            else:\n",
    "                label_ids.append(-100)\n",
    "            previous_word_idx = word_idx\n",
    "\n",
    "        labels.append(label_ids)\n",
    "    tokenized_inputs[\"labels\"] = labels\n",
    "    return tokenized_inputs"
   ]
  },
  {
   "cell_type": "markdown",
   "id": "a4b5101a",
   "metadata": {},
   "source": [
    "### Selecting random data points to finetune the Model:"
   ]
  },
  {
   "cell_type": "code",
   "execution_count": 9,
   "id": "12377d1e",
   "metadata": {
    "execution": {
     "iopub.execute_input": "2024-03-11T14:23:23.798562Z",
     "iopub.status.busy": "2024-03-11T14:23:23.798273Z",
     "iopub.status.idle": "2024-03-11T14:23:24.191679Z",
     "shell.execute_reply": "2024-03-11T14:23:24.190878Z",
     "shell.execute_reply.started": "2024-03-11T14:23:23.798539Z"
    },
    "id": "d4551b1d"
   },
   "outputs": [],
   "source": [
    "train_dataset1 = data['train'].shuffle(seed=42).select(range(50000))       #985787\n",
    "validation_dataset1 = data['validation'] #13460\n",
    "test_dataset1 = data['test']"
   ]
  },
  {
   "cell_type": "markdown",
   "id": "b3d0ed04",
   "metadata": {},
   "source": [
    "### Mapping the data for compatibility with the Trainer class:"
   ]
  },
  {
   "cell_type": "code",
   "execution_count": 10,
   "id": "e4420028",
   "metadata": {
    "colab": {
     "base_uri": "https://localhost:8080/",
     "height": 84,
     "referenced_widgets": [
      "c5405705b8674018bc1e7912582d9f9a",
      "9314df660f514084a5639ad11b1b17a8",
      "e78af56bb6fa424b9e9d9a41d5e6b11c",
      "a3d36b5c763849678ce2e693fbe6c469",
      "fc9dbffdf3654bf89c5cee071f099c48",
      "e44672074478489d91d4b70b1d694075",
      "32c81e1617354cbfb7b783b91c061d9b",
      "c23b7c51efd34f3d8811db7e3181b826",
      "3debb66290694cb8ae4a519d7d7a3ec1",
      "8f6fa08a87734e21a99b931337ae7f41",
      "b79512d943054b8e83700a1f47c780b5"
     ]
    },
    "execution": {
     "iopub.execute_input": "2024-03-11T14:23:24.194909Z",
     "iopub.status.busy": "2024-03-11T14:23:24.194605Z",
     "iopub.status.idle": "2024-03-11T14:23:47.142819Z",
     "shell.execute_reply": "2024-03-11T14:23:47.141709Z",
     "shell.execute_reply.started": "2024-03-11T14:23:24.194881Z"
    },
    "id": "d6fe978b",
    "outputId": "8327fdb9-c482-4f23-9ccc-5ba5f11b2c20"
   },
   "outputs": [
    {
     "name": "stdout",
     "output_type": "stream",
     "text": [
      "            "
     ]
    },
    {
     "data": {
      "application/vnd.jupyter.widget-view+json": {
       "model_id": "2e097457249e45eea3a1fe1bedd7a357",
       "version_major": 2,
       "version_minor": 0
      },
      "text/plain": [
       "#0:   0%|          | 0/5 [00:00<?, ?ba/s]"
      ]
     },
     "metadata": {},
     "output_type": "display_data"
    },
    {
     "name": "stdout",
     "output_type": "stream",
     "text": [
      " "
     ]
    },
    {
     "data": {
      "application/vnd.jupyter.widget-view+json": {
       "model_id": "fe058f5bafd94c479e82dd480d358ba3",
       "version_major": 2,
       "version_minor": 0
      },
      "text/plain": [
       "#1:   0%|          | 0/5 [00:00<?, ?ba/s]"
      ]
     },
     "metadata": {},
     "output_type": "display_data"
    },
    {
     "name": "stdout",
     "output_type": "stream",
     "text": [
      " "
     ]
    },
    {
     "data": {
      "application/vnd.jupyter.widget-view+json": {
       "model_id": "d2a5307ae206434dbec31bafc7ac90f0",
       "version_major": 2,
       "version_minor": 0
      },
      "text/plain": [
       "#2:   0%|          | 0/5 [00:00<?, ?ba/s]"
      ]
     },
     "metadata": {},
     "output_type": "display_data"
    },
    {
     "name": "stdout",
     "output_type": "stream",
     "text": [
      "   "
     ]
    },
    {
     "data": {
      "application/vnd.jupyter.widget-view+json": {
       "model_id": "3a1bedb1ee6644ce9fa6a991dfa9d2df",
       "version_major": 2,
       "version_minor": 0
      },
      "text/plain": [
       "#3:   0%|          | 0/5 [00:00<?, ?ba/s]"
      ]
     },
     "metadata": {},
     "output_type": "display_data"
    },
    {
     "data": {
      "application/vnd.jupyter.widget-view+json": {
       "model_id": "9a390dc5c80e4ed4b8db0c61d237c6c9",
       "version_major": 2,
       "version_minor": 0
      },
      "text/plain": [
       "#4:   0%|          | 0/5 [00:00<?, ?ba/s]"
      ]
     },
     "metadata": {},
     "output_type": "display_data"
    },
    {
     "name": "stdout",
     "output_type": "stream",
     "text": [
      " "
     ]
    },
    {
     "data": {
      "application/vnd.jupyter.widget-view+json": {
       "model_id": "1a1ca680452b4dbd8e31a0fc173702d9",
       "version_major": 2,
       "version_minor": 0
      },
      "text/plain": [
       "#5:   0%|          | 0/5 [00:00<?, ?ba/s]"
      ]
     },
     "metadata": {},
     "output_type": "display_data"
    },
    {
     "name": "stdout",
     "output_type": "stream",
     "text": [
      "  "
     ]
    },
    {
     "data": {
      "application/vnd.jupyter.widget-view+json": {
       "model_id": "358c6ded2ee24493a39e60ee556e7928",
       "version_major": 2,
       "version_minor": 0
      },
      "text/plain": [
       "#6:   0%|          | 0/5 [00:00<?, ?ba/s]"
      ]
     },
     "metadata": {},
     "output_type": "display_data"
    },
    {
     "data": {
      "application/vnd.jupyter.widget-view+json": {
       "model_id": "b820035497ec45fc9c01f1b162ee7c60",
       "version_major": 2,
       "version_minor": 0
      },
      "text/plain": [
       "#7:   0%|          | 0/5 [00:00<?, ?ba/s]"
      ]
     },
     "metadata": {},
     "output_type": "display_data"
    },
    {
     "data": {
      "application/vnd.jupyter.widget-view+json": {
       "model_id": "ce46b0dd32324fd4be1a781b7501ef6a",
       "version_major": 2,
       "version_minor": 0
      },
      "text/plain": [
       "#9:   0%|          | 0/5 [00:00<?, ?ba/s]"
      ]
     },
     "metadata": {},
     "output_type": "display_data"
    },
    {
     "data": {
      "application/vnd.jupyter.widget-view+json": {
       "model_id": "3997b865b0064a8e872624f8d9630a98",
       "version_major": 2,
       "version_minor": 0
      },
      "text/plain": [
       "#8:   0%|          | 0/5 [00:00<?, ?ba/s]"
      ]
     },
     "metadata": {},
     "output_type": "display_data"
    },
    {
     "name": "stdout",
     "output_type": "stream",
     "text": [
      "             "
     ]
    },
    {
     "data": {
      "application/vnd.jupyter.widget-view+json": {
       "model_id": "8b73de8aa0d4428eac6d71cd3bc266a1",
       "version_major": 2,
       "version_minor": 0
      },
      "text/plain": [
       "#1:   0%|          | 0/2 [00:00<?, ?ba/s]"
      ]
     },
     "metadata": {},
     "output_type": "display_data"
    },
    {
     "data": {
      "application/vnd.jupyter.widget-view+json": {
       "model_id": "c658f80d2b7840ee94b4ca9d1e8001c8",
       "version_major": 2,
       "version_minor": 0
      },
      "text/plain": [
       "#0:   0%|          | 0/2 [00:00<?, ?ba/s]"
      ]
     },
     "metadata": {},
     "output_type": "display_data"
    },
    {
     "name": "stdout",
     "output_type": "stream",
     "text": [
      "  "
     ]
    },
    {
     "data": {
      "application/vnd.jupyter.widget-view+json": {
       "model_id": "fe90e6c9446244fa915b55a22fbd1236",
       "version_major": 2,
       "version_minor": 0
      },
      "text/plain": [
       "#2:   0%|          | 0/2 [00:00<?, ?ba/s]"
      ]
     },
     "metadata": {},
     "output_type": "display_data"
    },
    {
     "name": "stdout",
     "output_type": "stream",
     "text": [
      "   "
     ]
    },
    {
     "data": {
      "application/vnd.jupyter.widget-view+json": {
       "model_id": "bab779e2fdbf404e86ed0e8171f6f47c",
       "version_major": 2,
       "version_minor": 0
      },
      "text/plain": [
       "#3:   0%|          | 0/2 [00:00<?, ?ba/s]"
      ]
     },
     "metadata": {},
     "output_type": "display_data"
    },
    {
     "data": {
      "application/vnd.jupyter.widget-view+json": {
       "model_id": "0ed9feb119144c60886eea7c495a31de",
       "version_major": 2,
       "version_minor": 0
      },
      "text/plain": [
       "#4:   0%|          | 0/2 [00:00<?, ?ba/s]"
      ]
     },
     "metadata": {},
     "output_type": "display_data"
    },
    {
     "name": "stdout",
     "output_type": "stream",
     "text": [
      " "
     ]
    },
    {
     "data": {
      "application/vnd.jupyter.widget-view+json": {
       "model_id": "0648327841c7413eb1a4f7a40708f7db",
       "version_major": 2,
       "version_minor": 0
      },
      "text/plain": [
       "#5:   0%|          | 0/2 [00:00<?, ?ba/s]"
      ]
     },
     "metadata": {},
     "output_type": "display_data"
    },
    {
     "name": "stdout",
     "output_type": "stream",
     "text": [
      " "
     ]
    },
    {
     "data": {
      "application/vnd.jupyter.widget-view+json": {
       "model_id": "07e6461be9af4e76b9b345b836145156",
       "version_major": 2,
       "version_minor": 0
      },
      "text/plain": [
       "#6:   0%|          | 0/2 [00:00<?, ?ba/s]"
      ]
     },
     "metadata": {},
     "output_type": "display_data"
    },
    {
     "data": {
      "application/vnd.jupyter.widget-view+json": {
       "model_id": "c08ef044c5b7446ba775bb7f1dfc45f3",
       "version_major": 2,
       "version_minor": 0
      },
      "text/plain": [
       "#7:   0%|          | 0/2 [00:00<?, ?ba/s]"
      ]
     },
     "metadata": {},
     "output_type": "display_data"
    },
    {
     "data": {
      "application/vnd.jupyter.widget-view+json": {
       "model_id": "48bc48a0fbd44ec79f808a5f6c7b676e",
       "version_major": 2,
       "version_minor": 0
      },
      "text/plain": [
       "#8:   0%|          | 0/2 [00:00<?, ?ba/s]"
      ]
     },
     "metadata": {},
     "output_type": "display_data"
    },
    {
     "data": {
      "application/vnd.jupyter.widget-view+json": {
       "model_id": "3512cb91ddd445bfa54decc741e27c91",
       "version_major": 2,
       "version_minor": 0
      },
      "text/plain": [
       "#9:   0%|          | 0/2 [00:00<?, ?ba/s]"
      ]
     },
     "metadata": {},
     "output_type": "display_data"
    },
    {
     "name": "stdout",
     "output_type": "stream",
     "text": [
      "             "
     ]
    },
    {
     "data": {
      "application/vnd.jupyter.widget-view+json": {
       "model_id": "8452e846c0fd452b8573934f4df6a94e",
       "version_major": 2,
       "version_minor": 0
      },
      "text/plain": [
       "#0:   0%|          | 0/1 [00:00<?, ?ba/s]"
      ]
     },
     "metadata": {},
     "output_type": "display_data"
    },
    {
     "name": "stdout",
     "output_type": "stream",
     "text": [
      "  "
     ]
    },
    {
     "data": {
      "application/vnd.jupyter.widget-view+json": {
       "model_id": "bde1d408c0c94fab809a622b99465b3e",
       "version_major": 2,
       "version_minor": 0
      },
      "text/plain": [
       "#2:   0%|          | 0/1 [00:00<?, ?ba/s]"
      ]
     },
     "metadata": {},
     "output_type": "display_data"
    },
    {
     "data": {
      "application/vnd.jupyter.widget-view+json": {
       "model_id": "2ca2de14d2114541add3b5e3d9984c2a",
       "version_major": 2,
       "version_minor": 0
      },
      "text/plain": [
       "#3:   0%|          | 0/1 [00:00<?, ?ba/s]"
      ]
     },
     "metadata": {},
     "output_type": "display_data"
    },
    {
     "name": "stdout",
     "output_type": "stream",
     "text": [
      " "
     ]
    },
    {
     "data": {
      "application/vnd.jupyter.widget-view+json": {
       "model_id": "95f31311b09742cb865abf3510f3bed4",
       "version_major": 2,
       "version_minor": 0
      },
      "text/plain": [
       "#1:   0%|          | 0/1 [00:00<?, ?ba/s]"
      ]
     },
     "metadata": {},
     "output_type": "display_data"
    },
    {
     "name": "stdout",
     "output_type": "stream",
     "text": [
      "    "
     ]
    },
    {
     "data": {
      "application/vnd.jupyter.widget-view+json": {
       "model_id": "84bf599ed898455d8f90a366c278b656",
       "version_major": 2,
       "version_minor": 0
      },
      "text/plain": [
       "#4:   0%|          | 0/1 [00:00<?, ?ba/s]"
      ]
     },
     "metadata": {},
     "output_type": "display_data"
    },
    {
     "data": {
      "application/vnd.jupyter.widget-view+json": {
       "model_id": "8719b3dc96e94e6bb55e846db7173eb9",
       "version_major": 2,
       "version_minor": 0
      },
      "text/plain": [
       "#5:   0%|          | 0/1 [00:00<?, ?ba/s]"
      ]
     },
     "metadata": {},
     "output_type": "display_data"
    },
    {
     "data": {
      "application/vnd.jupyter.widget-view+json": {
       "model_id": "29a9c3a61db34deda9e2c1afd2279323",
       "version_major": 2,
       "version_minor": 0
      },
      "text/plain": [
       "#7:   0%|          | 0/1 [00:00<?, ?ba/s]"
      ]
     },
     "metadata": {},
     "output_type": "display_data"
    },
    {
     "data": {
      "application/vnd.jupyter.widget-view+json": {
       "model_id": "b2e6a5b26f0e46aeacce45f0a58403b7",
       "version_major": 2,
       "version_minor": 0
      },
      "text/plain": [
       "#6:   0%|          | 0/1 [00:00<?, ?ba/s]"
      ]
     },
     "metadata": {},
     "output_type": "display_data"
    },
    {
     "data": {
      "application/vnd.jupyter.widget-view+json": {
       "model_id": "b6a13eb48adf4a4fa06f3d94d8058547",
       "version_major": 2,
       "version_minor": 0
      },
      "text/plain": [
       "#9:   0%|          | 0/1 [00:00<?, ?ba/s]"
      ]
     },
     "metadata": {},
     "output_type": "display_data"
    },
    {
     "data": {
      "application/vnd.jupyter.widget-view+json": {
       "model_id": "afb78950e66f4a22969c9ed3b0a62a61",
       "version_major": 2,
       "version_minor": 0
      },
      "text/plain": [
       "#8:   0%|          | 0/1 [00:00<?, ?ba/s]"
      ]
     },
     "metadata": {},
     "output_type": "display_data"
    },
    {
     "name": "stdout",
     "output_type": "stream",
     "text": [
      "CPU times: user 1.34 s, sys: 606 ms, total: 1.94 s\n",
      "Wall time: 22.9 s\n"
     ]
    }
   ],
   "source": [
    "%%time\n",
    "tokenized_train_dataset =train_dataset1.map(tokenize_and_align_labels,batched=True,load_from_cache_file=True,num_proc=10)\n",
    "tokenized_validation_dataset =validation_dataset1.map(tokenize_and_align_labels,batched=True,load_from_cache_file=True,num_proc=10)\n",
    "tokenized_test_dataset =test_dataset1.map(tokenize_and_align_labels,batched=True,load_from_cache_file=True,num_proc=10)"
   ]
  },
  {
   "cell_type": "code",
   "execution_count": 11,
   "id": "1db0d1fb",
   "metadata": {
    "execution": {
     "iopub.execute_input": "2024-03-11T14:23:47.144392Z",
     "iopub.status.busy": "2024-03-11T14:23:47.144123Z",
     "iopub.status.idle": "2024-03-11T14:23:47.148788Z",
     "shell.execute_reply": "2024-03-11T14:23:47.147801Z",
     "shell.execute_reply.started": "2024-03-11T14:23:47.144367Z"
    },
    "id": "a3dc0583"
   },
   "outputs": [],
   "source": [
    "# print(tokenized_test_dataset)"
   ]
  },
  {
   "cell_type": "code",
   "execution_count": 12,
   "id": "4da9c12e",
   "metadata": {
    "execution": {
     "iopub.execute_input": "2024-03-11T14:23:47.150622Z",
     "iopub.status.busy": "2024-03-11T14:23:47.150256Z",
     "iopub.status.idle": "2024-03-11T14:23:47.520360Z",
     "shell.execute_reply": "2024-03-11T14:23:47.519386Z",
     "shell.execute_reply.started": "2024-03-11T14:23:47.150590Z"
    },
    "id": "4e53e3cf"
   },
   "outputs": [],
   "source": [
    "# for token, label in zip(tokenizer_ner.convert_ids_to_tokens(tokenized_test_dataset[\"input_ids\"][0]),tokenized_test_dataset[\"labels\"][0]):\n",
    "#     print(f\"{token:_<40} {label}\")"
   ]
  },
  {
   "cell_type": "markdown",
   "id": "786a45f7",
   "metadata": {},
   "source": [
    "### Function to compute matric used to validate the performance of Model and Evaluate function to eval any dataset:"
   ]
  },
  {
   "cell_type": "code",
   "execution_count": 13,
   "id": "4498fe47",
   "metadata": {
    "execution": {
     "iopub.execute_input": "2024-03-11T14:23:47.521988Z",
     "iopub.status.busy": "2024-03-11T14:23:47.521610Z",
     "iopub.status.idle": "2024-03-11T14:23:47.530797Z",
     "shell.execute_reply": "2024-03-11T14:23:47.529770Z",
     "shell.execute_reply.started": "2024-03-11T14:23:47.521961Z"
    },
    "id": "39913e3a"
   },
   "outputs": [],
   "source": [
    "import numpy as np\n",
    "from sklearn.metrics import f1_score, precision_score, recall_score, accuracy_score\n",
    "\n",
    "def compute_metrics(p):\n",
    "    predictions, labels = p.predictions, p.label_ids\n",
    "\n",
    "    # Flatten the predictions and labels\n",
    "    predictions_flat = np.argmax(predictions, axis=2).flatten()\n",
    "    labels_flat = labels.flatten()\n",
    "\n",
    "    # Remove occurrences of -100 from both predictions and labels\n",
    "    mask = (labels_flat != -100)\n",
    "    predictions_filtered = predictions_flat[mask]\n",
    "    labels_filtered = labels_flat[mask]\n",
    "\n",
    "    # Calculate macro F1 score\n",
    "    f1 = f1_score(labels_filtered, predictions_filtered, average=\"macro\")\n",
    "\n",
    "    # Calculate precision, recall, and accuracy with zero_division parameter\n",
    "    precision = precision_score(labels_filtered, predictions_filtered, average=\"macro\", zero_division=1)\n",
    "    recall = recall_score(labels_filtered, predictions_filtered, average=\"macro\")\n",
    "    accuracy = accuracy_score(labels_filtered, predictions_filtered)\n",
    "\n",
    "    return {\n",
    "        \"macro_f1\": f1,\n",
    "        \"precision\": precision,\n",
    "        \"recall\": recall,\n",
    "        \"accuracy\": accuracy\n",
    "    }\n",
    "\n",
    "\n",
    "def evaluate_model(trainer, dataset):\n",
    "    results = trainer.evaluate(dataset)\n",
    "    return results"
   ]
  },
  {
   "cell_type": "markdown",
   "id": "ba9aca71",
   "metadata": {},
   "source": [
    "### Specifing Training args and hyperparameters:"
   ]
  },
  {
   "cell_type": "code",
   "execution_count": 17,
   "id": "a44f12b8",
   "metadata": {
    "colab": {
     "base_uri": "https://localhost:8080/"
    },
    "execution": {
     "iopub.execute_input": "2024-03-11T14:33:51.463431Z",
     "iopub.status.busy": "2024-03-11T14:33:51.463028Z",
     "iopub.status.idle": "2024-03-11T14:33:51.480420Z",
     "shell.execute_reply": "2024-03-11T14:33:51.479611Z",
     "shell.execute_reply.started": "2024-03-11T14:33:51.463398Z"
    },
    "id": "3fea22a0",
    "outputId": "202b4364-60f7-46d7-d799-dda34d5f409a"
   },
   "outputs": [
    {
     "name": "stdout",
     "output_type": "stream",
     "text": [
      "CPU times: user 30 µs, sys: 1e+03 ns, total: 31 µs\n",
      "Wall time: 36 µs\n"
     ]
    }
   ],
   "source": [
    "%%time\n",
    "import numpy as np\n",
    "from transformers import DataCollatorForTokenClassification\n",
    "\n",
    "data_collator = DataCollatorForTokenClassification(tokenizer_ner)\n",
    "\n",
    "def fine_tune_indic_ner(train_dataset, validation_dataset):\n",
    "    training_args = TrainingArguments(\n",
    "        output_dir=\"./indic_ner_fine_tuned\",\n",
    "        num_train_epochs=5,\n",
    "        per_device_train_batch_size=16,\n",
    "        per_device_eval_batch_size=16,\n",
    "        warmup_steps=500,\n",
    "        weight_decay=0.01,\n",
    "        logging_dir=\"./indic_ner_logs\",\n",
    "        evaluation_strategy=\"epoch\",\n",
    "        save_strategy = \"epoch\",\n",
    "        save_total_limit=2,\n",
    "        load_best_model_at_end=True,\n",
    "        metric_for_best_model=\"macro_f1\",\n",
    "    )\n",
    "\n",
    "    trainer = Trainer(\n",
    "        model=model_ner,\n",
    "        args=training_args,\n",
    "        data_collator=data_collator,\n",
    "        train_dataset=train_dataset,\n",
    "        eval_dataset=validation_dataset,\n",
    "        compute_metrics=compute_metrics,\n",
    "    )\n",
    "\n",
    "    trainer.train()\n",
    "    return trainer"
   ]
  },
  {
   "cell_type": "markdown",
   "id": "51d364c4",
   "metadata": {},
   "source": [
    "### Finetuning the Model with training data and val. data:"
   ]
  },
  {
   "cell_type": "code",
   "execution_count": 18,
   "id": "8257a83c",
   "metadata": {
    "colab": {
     "base_uri": "https://localhost:8080/",
     "height": 169
    },
    "execution": {
     "iopub.execute_input": "2024-03-11T14:33:52.980768Z",
     "iopub.status.busy": "2024-03-11T14:33:52.980034Z",
     "iopub.status.idle": "2024-03-11T18:46:46.695382Z",
     "shell.execute_reply": "2024-03-11T18:46:46.694268Z",
     "shell.execute_reply.started": "2024-03-11T14:33:52.980727Z"
    },
    "id": "35f086be",
    "outputId": "cc3bb845-e4bb-43fa-ce0d-f952d12bac36",
    "scrolled": true
   },
   "outputs": [
    {
     "data": {
      "text/html": [
       "\n",
       "    <div>\n",
       "      \n",
       "      <progress value='15625' max='15625' style='width:300px; height:20px; vertical-align: middle;'></progress>\n",
       "      [15625/15625 4:12:51, Epoch 5/5]\n",
       "    </div>\n",
       "    <table border=\"1\" class=\"dataframe\">\n",
       "  <thead>\n",
       " <tr style=\"text-align: left;\">\n",
       "      <th>Epoch</th>\n",
       "      <th>Training Loss</th>\n",
       "      <th>Validation Loss</th>\n",
       "      <th>Macro F1</th>\n",
       "      <th>Precision</th>\n",
       "      <th>Recall</th>\n",
       "      <th>Accuracy</th>\n",
       "    </tr>\n",
       "  </thead>\n",
       "  <tbody>\n",
       "    <tr>\n",
       "      <td>1</td>\n",
       "      <td>0.168900</td>\n",
       "      <td>0.181030</td>\n",
       "      <td>0.825597</td>\n",
       "      <td>0.842930</td>\n",
       "      <td>0.811202</td>\n",
       "      <td>0.946687</td>\n",
       "    </tr>\n",
       "    <tr>\n",
       "      <td>2</td>\n",
       "      <td>0.134600</td>\n",
       "      <td>0.181850</td>\n",
       "      <td>0.826177</td>\n",
       "      <td>0.832387</td>\n",
       "      <td>0.820943</td>\n",
       "      <td>0.945478</td>\n",
       "    </tr>\n",
       "    <tr>\n",
       "      <td>3</td>\n",
       "      <td>0.098800</td>\n",
       "      <td>0.203579</td>\n",
       "      <td>0.824514</td>\n",
       "      <td>0.825672</td>\n",
       "      <td>0.823902</td>\n",
       "      <td>0.944909</td>\n",
       "    </tr>\n",
       "    <tr>\n",
       "      <td>4</td>\n",
       "      <td>0.071900</td>\n",
       "      <td>0.232249</td>\n",
       "      <td>0.823776</td>\n",
       "      <td>0.833616</td>\n",
       "      <td>0.815444</td>\n",
       "      <td>0.944850</td>\n",
       "    </tr>\n",
       "    <tr>\n",
       "      <td>5</td>\n",
       "      <td>0.051800</td>\n",
       "      <td>0.253060</td>\n",
       "      <td>0.821829</td>\n",
       "      <td>0.830313</td>\n",
       "      <td>0.814370</td>\n",
       "      <td>0.944068</td>\n",
       "    </tr>\n",
       "  </tbody>\n",
       "</table><p>"
      ],
      "text/plain": [
       "<IPython.core.display.HTML object>"
      ]
     },
     "metadata": {},
     "output_type": "display_data"
    },
    {
     "name": "stdout",
     "output_type": "stream",
     "text": [
      "CPU times: user 4h 12min 41s, sys: 25.9 s, total: 4h 13min 7s\n",
      "Wall time: 4h 12min 53s\n"
     ]
    }
   ],
   "source": [
    "%%time\n",
    "import os\n",
    "os.environ['PYTORCH_CUDA_ALLOC_CONF'] = 'expandable_segments:True'\n",
    "torch.cuda.empty_cache()\n",
    "\n",
    "indic_ner_trainer = fine_tune_indic_ner(tokenized_train_dataset, tokenized_validation_dataset)"
   ]
  },
  {
   "cell_type": "markdown",
   "id": "e10e03ad",
   "metadata": {},
   "source": [
    "### Model performance(macro f1-score) on test data:¶"
   ]
  },
  {
   "cell_type": "code",
   "execution_count": 21,
   "id": "350fb08e",
   "metadata": {
    "execution": {
     "iopub.execute_input": "2024-03-11T19:01:46.716746Z",
     "iopub.status.busy": "2024-03-11T19:01:46.715804Z",
     "iopub.status.idle": "2024-03-11T19:02:03.720813Z",
     "shell.execute_reply": "2024-03-11T19:02:03.719633Z",
     "shell.execute_reply.started": "2024-03-11T19:01:46.716694Z"
    },
    "id": "d928251e"
   },
   "outputs": [
    {
     "name": "stdout",
     "output_type": "stream",
     "text": [
      "eval_loss :   0.14882075786590576\n",
      "eval_macro_f1 :   0.833918580479044\n",
      "eval_precision :   0.8319968764341761\n",
      "eval_recall :   0.841306851644088\n",
      "eval_accuracy :   0.9531996179560649\n",
      "eval_runtime :   16.981\n",
      "eval_samples_per_second :   51.057\n",
      "eval_steps_per_second :   3.239\n",
      "epoch :   5.0\n"
     ]
    }
   ],
   "source": [
    "indic_ner_results = evaluate_model(indic_ner_trainer, tokenized_test_dataset)\n",
    "for metric in indic_ner_results:\n",
    "    print(metric,\":  \",indic_ner_results[metric])"
   ]
  },
  {
   "cell_type": "markdown",
   "id": "9dd80d02",
   "metadata": {},
   "source": [
    "### Model performance(macro f1-score) on train data:¶"
   ]
  },
  {
   "cell_type": "code",
   "execution_count": 25,
   "id": "9c07968e",
   "metadata": {
    "execution": {
     "iopub.execute_input": "2024-03-11T19:35:20.179290Z",
     "iopub.status.busy": "2024-03-11T19:35:20.178433Z",
     "iopub.status.idle": "2024-03-11T19:51:44.858842Z",
     "shell.execute_reply": "2024-03-11T19:51:44.857673Z",
     "shell.execute_reply.started": "2024-03-11T19:35:20.179257Z"
    },
    "id": "8f787425"
   },
   "outputs": [
    {
     "name": "stdout",
     "output_type": "stream",
     "text": [
      "eval_loss :   0.08413787186145782\n",
      "eval_macro_f1 :   0.9096231967722562\n",
      "eval_precision :   0.9109521604281074\n",
      "eval_recall :   0.9086517235905898\n",
      "eval_accuracy :   0.9716792414053673\n",
      "eval_runtime :   984.6087\n",
      "eval_samples_per_second :   50.782\n",
      "eval_steps_per_second :   3.174\n",
      "epoch :   5.0\n"
     ]
    }
   ],
   "source": [
    "indic_ner_results = evaluate_model(indic_ner_trainer, tokenized_train_dataset)\n",
    "for metric in indic_ner_results:\n",
    "    print(metric,\":  \",indic_ner_results[metric])"
   ]
  },
  {
   "cell_type": "markdown",
   "id": "abd1d701",
   "metadata": {},
   "source": [
    "### Model performance(macro f1-score) on validation data:¶"
   ]
  },
  {
   "cell_type": "code",
   "execution_count": 26,
   "id": "c815ddc8",
   "metadata": {
    "execution": {
     "iopub.execute_input": "2024-03-11T19:57:41.409120Z",
     "iopub.status.busy": "2024-03-11T19:57:41.408391Z",
     "iopub.status.idle": "2024-03-11T20:02:05.059561Z",
     "shell.execute_reply": "2024-03-11T20:02:05.058450Z",
     "shell.execute_reply.started": "2024-03-11T19:57:41.409086Z"
    },
    "id": "27a4034d"
   },
   "outputs": [
    {
     "name": "stdout",
     "output_type": "stream",
     "text": [
      "eval_loss :   0.18185046315193176\n",
      "eval_macro_f1 :   0.8261773993050364\n",
      "eval_precision :   0.8323873200649317\n",
      "eval_recall :   0.8209433495394655\n",
      "eval_accuracy :   0.9454780285328365\n",
      "eval_runtime :   263.6154\n",
      "eval_samples_per_second :   51.059\n",
      "eval_steps_per_second :   3.194\n",
      "epoch :   5.0\n"
     ]
    }
   ],
   "source": [
    "indic_ner_results = evaluate_model(indic_ner_trainer, tokenized_validation_dataset)\n",
    "for metric in indic_ner_results:\n",
    "    print(metric,\":  \",indic_ner_results[metric])"
   ]
  },
  {
   "cell_type": "markdown",
   "id": "3995052d",
   "metadata": {
    "id": "81c9cb63"
   },
   "source": [
    "### To view logs of any epoch, uncomment below-"
   ]
  },
  {
   "cell_type": "code",
   "execution_count": 27,
   "id": "f7529058",
   "metadata": {
    "execution": {
     "iopub.execute_input": "2024-03-11T20:04:44.189160Z",
     "iopub.status.busy": "2024-03-11T20:04:44.188716Z",
     "iopub.status.idle": "2024-03-11T20:04:44.195572Z",
     "shell.execute_reply": "2024-03-11T20:04:44.194427Z",
     "shell.execute_reply.started": "2024-03-11T20:04:44.189129Z"
    },
    "id": "2e0d2d98"
   },
   "outputs": [],
   "source": [
    "# train_metrics = indic_ner_trainer.state.log_history\n",
    "# epoch_num = len(train_metrics)-1\n",
    "# from pprint import pprint\n",
    "# pprint(train_metrics[epoch_num])\n"
   ]
  },
  {
   "cell_type": "markdown",
   "id": "095b41b4",
   "metadata": {
    "id": "2f405238"
   },
   "source": [
    "## Saving Fine-tuned Model and tokenizer for furthur use in problem 4-"
   ]
  },
  {
   "cell_type": "code",
   "execution_count": 28,
   "id": "bdfafae0",
   "metadata": {
    "execution": {
     "iopub.execute_input": "2024-03-11T20:04:47.865191Z",
     "iopub.status.busy": "2024-03-11T20:04:47.864477Z",
     "iopub.status.idle": "2024-03-11T20:04:49.304001Z",
     "shell.execute_reply": "2024-03-11T20:04:49.302998Z",
     "shell.execute_reply.started": "2024-03-11T20:04:47.865158Z"
    },
    "id": "5f8db6af"
   },
   "outputs": [
    {
     "data": {
      "text/plain": [
       "('finetunedINDIC_ner_model/tokenizer_config.json',\n",
       " 'finetunedINDIC_ner_model/special_tokens_map.json',\n",
       " 'finetunedINDIC_ner_model/vocab.txt',\n",
       " 'finetunedINDIC_ner_model/added_tokens.json',\n",
       " 'finetunedINDIC_ner_model/tokenizer.json')"
      ]
     },
     "execution_count": 28,
     "metadata": {},
     "output_type": "execute_result"
    }
   ],
   "source": [
    "indic_ner_trainer.save_model(\"finetunedINDIC_ner_model\")\n",
    "tokenizer_ner.save_pretrained(\"finetunedINDIC_ner_model\")"
   ]
  },
  {
   "cell_type": "code",
   "execution_count": null,
   "id": "58a18009",
   "metadata": {
    "id": "445683d6"
   },
   "outputs": [],
   "source": []
  }
 ],
 "metadata": {
  "accelerator": "GPU",
  "colab": {
   "gpuType": "T4",
   "provenance": []
  },
  "kaggle": {
   "accelerator": "gpu",
   "dataSources": [],
   "dockerImageVersionId": 30665,
   "isGpuEnabled": true,
   "isInternetEnabled": true,
   "language": "python",
   "sourceType": "notebook"
  },
  "kernelspec": {
   "display_name": "Python 3 (ipykernel)",
   "language": "python",
   "name": "python3"
  },
  "language_info": {
   "codemirror_mode": {
    "name": "ipython",
    "version": 3
   },
   "file_extension": ".py",
   "mimetype": "text/x-python",
   "name": "python",
   "nbconvert_exporter": "python",
   "pygments_lexer": "ipython3",
   "version": "3.11.5"
  },
  "widgets": {
   "application/vnd.jupyter.widget-state+json": {
    "32c81e1617354cbfb7b783b91c061d9b": {
     "model_module": "@jupyter-widgets/controls",
     "model_module_version": "1.5.0",
     "model_name": "DescriptionStyleModel",
     "state": {
      "_model_module": "@jupyter-widgets/controls",
      "_model_module_version": "1.5.0",
      "_model_name": "DescriptionStyleModel",
      "_view_count": null,
      "_view_module": "@jupyter-widgets/base",
      "_view_module_version": "1.2.0",
      "_view_name": "StyleView",
      "description_width": ""
     }
    },
    "3debb66290694cb8ae4a519d7d7a3ec1": {
     "model_module": "@jupyter-widgets/controls",
     "model_module_version": "1.5.0",
     "model_name": "ProgressStyleModel",
     "state": {
      "_model_module": "@jupyter-widgets/controls",
      "_model_module_version": "1.5.0",
      "_model_name": "ProgressStyleModel",
      "_view_count": null,
      "_view_module": "@jupyter-widgets/base",
      "_view_module_version": "1.2.0",
      "_view_name": "StyleView",
      "bar_color": null,
      "description_width": ""
     }
    },
    "8f6fa08a87734e21a99b931337ae7f41": {
     "model_module": "@jupyter-widgets/base",
     "model_module_version": "1.2.0",
     "model_name": "LayoutModel",
     "state": {
      "_model_module": "@jupyter-widgets/base",
      "_model_module_version": "1.2.0",
      "_model_name": "LayoutModel",
      "_view_count": null,
      "_view_module": "@jupyter-widgets/base",
      "_view_module_version": "1.2.0",
      "_view_name": "LayoutView",
      "align_content": null,
      "align_items": null,
      "align_self": null,
      "border": null,
      "bottom": null,
      "display": null,
      "flex": null,
      "flex_flow": null,
      "grid_area": null,
      "grid_auto_columns": null,
      "grid_auto_flow": null,
      "grid_auto_rows": null,
      "grid_column": null,
      "grid_gap": null,
      "grid_row": null,
      "grid_template_areas": null,
      "grid_template_columns": null,
      "grid_template_rows": null,
      "height": null,
      "justify_content": null,
      "justify_items": null,
      "left": null,
      "margin": null,
      "max_height": null,
      "max_width": null,
      "min_height": null,
      "min_width": null,
      "object_fit": null,
      "object_position": null,
      "order": null,
      "overflow": null,
      "overflow_x": null,
      "overflow_y": null,
      "padding": null,
      "right": null,
      "top": null,
      "visibility": null,
      "width": null
     }
    },
    "9314df660f514084a5639ad11b1b17a8": {
     "model_module": "@jupyter-widgets/controls",
     "model_module_version": "1.5.0",
     "model_name": "HTMLModel",
     "state": {
      "_dom_classes": [],
      "_model_module": "@jupyter-widgets/controls",
      "_model_module_version": "1.5.0",
      "_model_name": "HTMLModel",
      "_view_count": null,
      "_view_module": "@jupyter-widgets/controls",
      "_view_module_version": "1.5.0",
      "_view_name": "HTMLView",
      "description": "",
      "description_tooltip": null,
      "layout": "IPY_MODEL_e44672074478489d91d4b70b1d694075",
      "placeholder": "​",
      "style": "IPY_MODEL_32c81e1617354cbfb7b783b91c061d9b",
      "value": "Map: 100%"
     }
    },
    "a3d36b5c763849678ce2e693fbe6c469": {
     "model_module": "@jupyter-widgets/controls",
     "model_module_version": "1.5.0",
     "model_name": "HTMLModel",
     "state": {
      "_dom_classes": [],
      "_model_module": "@jupyter-widgets/controls",
      "_model_module_version": "1.5.0",
      "_model_name": "HTMLModel",
      "_view_count": null,
      "_view_module": "@jupyter-widgets/controls",
      "_view_module_version": "1.5.0",
      "_view_name": "HTMLView",
      "description": "",
      "description_tooltip": null,
      "layout": "IPY_MODEL_8f6fa08a87734e21a99b931337ae7f41",
      "placeholder": "​",
      "style": "IPY_MODEL_b79512d943054b8e83700a1f47c780b5",
      "value": " 30000/30000 [00:50&lt;00:00, 859.57 examples/s]"
     }
    },
    "b79512d943054b8e83700a1f47c780b5": {
     "model_module": "@jupyter-widgets/controls",
     "model_module_version": "1.5.0",
     "model_name": "DescriptionStyleModel",
     "state": {
      "_model_module": "@jupyter-widgets/controls",
      "_model_module_version": "1.5.0",
      "_model_name": "DescriptionStyleModel",
      "_view_count": null,
      "_view_module": "@jupyter-widgets/base",
      "_view_module_version": "1.2.0",
      "_view_name": "StyleView",
      "description_width": ""
     }
    },
    "c23b7c51efd34f3d8811db7e3181b826": {
     "model_module": "@jupyter-widgets/base",
     "model_module_version": "1.2.0",
     "model_name": "LayoutModel",
     "state": {
      "_model_module": "@jupyter-widgets/base",
      "_model_module_version": "1.2.0",
      "_model_name": "LayoutModel",
      "_view_count": null,
      "_view_module": "@jupyter-widgets/base",
      "_view_module_version": "1.2.0",
      "_view_name": "LayoutView",
      "align_content": null,
      "align_items": null,
      "align_self": null,
      "border": null,
      "bottom": null,
      "display": null,
      "flex": null,
      "flex_flow": null,
      "grid_area": null,
      "grid_auto_columns": null,
      "grid_auto_flow": null,
      "grid_auto_rows": null,
      "grid_column": null,
      "grid_gap": null,
      "grid_row": null,
      "grid_template_areas": null,
      "grid_template_columns": null,
      "grid_template_rows": null,
      "height": null,
      "justify_content": null,
      "justify_items": null,
      "left": null,
      "margin": null,
      "max_height": null,
      "max_width": null,
      "min_height": null,
      "min_width": null,
      "object_fit": null,
      "object_position": null,
      "order": null,
      "overflow": null,
      "overflow_x": null,
      "overflow_y": null,
      "padding": null,
      "right": null,
      "top": null,
      "visibility": null,
      "width": null
     }
    },
    "c5405705b8674018bc1e7912582d9f9a": {
     "model_module": "@jupyter-widgets/controls",
     "model_module_version": "1.5.0",
     "model_name": "HBoxModel",
     "state": {
      "_dom_classes": [],
      "_model_module": "@jupyter-widgets/controls",
      "_model_module_version": "1.5.0",
      "_model_name": "HBoxModel",
      "_view_count": null,
      "_view_module": "@jupyter-widgets/controls",
      "_view_module_version": "1.5.0",
      "_view_name": "HBoxView",
      "box_style": "",
      "children": [
       "IPY_MODEL_9314df660f514084a5639ad11b1b17a8",
       "IPY_MODEL_e78af56bb6fa424b9e9d9a41d5e6b11c",
       "IPY_MODEL_a3d36b5c763849678ce2e693fbe6c469"
      ],
      "layout": "IPY_MODEL_fc9dbffdf3654bf89c5cee071f099c48"
     }
    },
    "e44672074478489d91d4b70b1d694075": {
     "model_module": "@jupyter-widgets/base",
     "model_module_version": "1.2.0",
     "model_name": "LayoutModel",
     "state": {
      "_model_module": "@jupyter-widgets/base",
      "_model_module_version": "1.2.0",
      "_model_name": "LayoutModel",
      "_view_count": null,
      "_view_module": "@jupyter-widgets/base",
      "_view_module_version": "1.2.0",
      "_view_name": "LayoutView",
      "align_content": null,
      "align_items": null,
      "align_self": null,
      "border": null,
      "bottom": null,
      "display": null,
      "flex": null,
      "flex_flow": null,
      "grid_area": null,
      "grid_auto_columns": null,
      "grid_auto_flow": null,
      "grid_auto_rows": null,
      "grid_column": null,
      "grid_gap": null,
      "grid_row": null,
      "grid_template_areas": null,
      "grid_template_columns": null,
      "grid_template_rows": null,
      "height": null,
      "justify_content": null,
      "justify_items": null,
      "left": null,
      "margin": null,
      "max_height": null,
      "max_width": null,
      "min_height": null,
      "min_width": null,
      "object_fit": null,
      "object_position": null,
      "order": null,
      "overflow": null,
      "overflow_x": null,
      "overflow_y": null,
      "padding": null,
      "right": null,
      "top": null,
      "visibility": null,
      "width": null
     }
    },
    "e78af56bb6fa424b9e9d9a41d5e6b11c": {
     "model_module": "@jupyter-widgets/controls",
     "model_module_version": "1.5.0",
     "model_name": "FloatProgressModel",
     "state": {
      "_dom_classes": [],
      "_model_module": "@jupyter-widgets/controls",
      "_model_module_version": "1.5.0",
      "_model_name": "FloatProgressModel",
      "_view_count": null,
      "_view_module": "@jupyter-widgets/controls",
      "_view_module_version": "1.5.0",
      "_view_name": "ProgressView",
      "bar_style": "success",
      "description": "",
      "description_tooltip": null,
      "layout": "IPY_MODEL_c23b7c51efd34f3d8811db7e3181b826",
      "max": 30000,
      "min": 0,
      "orientation": "horizontal",
      "style": "IPY_MODEL_3debb66290694cb8ae4a519d7d7a3ec1",
      "value": 30000
     }
    },
    "fc9dbffdf3654bf89c5cee071f099c48": {
     "model_module": "@jupyter-widgets/base",
     "model_module_version": "1.2.0",
     "model_name": "LayoutModel",
     "state": {
      "_model_module": "@jupyter-widgets/base",
      "_model_module_version": "1.2.0",
      "_model_name": "LayoutModel",
      "_view_count": null,
      "_view_module": "@jupyter-widgets/base",
      "_view_module_version": "1.2.0",
      "_view_name": "LayoutView",
      "align_content": null,
      "align_items": null,
      "align_self": null,
      "border": null,
      "bottom": null,
      "display": null,
      "flex": null,
      "flex_flow": null,
      "grid_area": null,
      "grid_auto_columns": null,
      "grid_auto_flow": null,
      "grid_auto_rows": null,
      "grid_column": null,
      "grid_gap": null,
      "grid_row": null,
      "grid_template_areas": null,
      "grid_template_columns": null,
      "grid_template_rows": null,
      "height": null,
      "justify_content": null,
      "justify_items": null,
      "left": null,
      "margin": null,
      "max_height": null,
      "max_width": null,
      "min_height": null,
      "min_width": null,
      "object_fit": null,
      "object_position": null,
      "order": null,
      "overflow": null,
      "overflow_x": null,
      "overflow_y": null,
      "padding": null,
      "right": null,
      "top": null,
      "visibility": null,
      "width": null
     }
    }
   }
  }
 },
 "nbformat": 4,
 "nbformat_minor": 5
}
