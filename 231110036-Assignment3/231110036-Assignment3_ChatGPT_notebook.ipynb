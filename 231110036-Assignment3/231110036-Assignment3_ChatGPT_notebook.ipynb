{
 "cells": [
  {
   "cell_type": "markdown",
   "metadata": {},
   "source": [
    "### ChatGPT (Using manual Translation)"
   ]
  },
  {
   "cell_type": "markdown",
   "metadata": {},
   "source": [
    "#### Function to calculate required metrics read translated file and return list of sentence"
   ]
  },
  {
   "cell_type": "code",
   "execution_count": 17,
   "metadata": {
    "execution": {
     "iopub.execute_input": "2024-04-18T10:36:11.450465Z",
     "iopub.status.busy": "2024-04-18T10:36:11.450086Z",
     "iopub.status.idle": "2024-04-18T10:36:48.075680Z",
     "shell.execute_reply": "2024-04-18T10:36:48.074309Z",
     "shell.execute_reply.started": "2024-04-18T10:36:11.450437Z"
    }
   },
   "outputs": [
    {
     "name": "stdout",
     "output_type": "stream",
     "text": [
      "Requirement already satisfied: evaluate in /opt/conda/lib/python3.10/site-packages (0.4.1)\n",
      "Requirement already satisfied: datasets>=2.0.0 in /opt/conda/lib/python3.10/site-packages (from evaluate) (2.18.0)\n",
      "Requirement already satisfied: numpy>=1.17 in /opt/conda/lib/python3.10/site-packages (from evaluate) (1.26.4)\n",
      "Requirement already satisfied: dill in /opt/conda/lib/python3.10/site-packages (from evaluate) (0.3.8)\n",
      "Requirement already satisfied: pandas in /opt/conda/lib/python3.10/site-packages (from evaluate) (2.1.4)\n",
      "Requirement already satisfied: requests>=2.19.0 in /opt/conda/lib/python3.10/site-packages (from evaluate) (2.31.0)\n",
      "Requirement already satisfied: tqdm>=4.62.1 in /opt/conda/lib/python3.10/site-packages (from evaluate) (4.66.1)\n",
      "Requirement already satisfied: xxhash in /opt/conda/lib/python3.10/site-packages (from evaluate) (3.4.1)\n",
      "Requirement already satisfied: multiprocess in /opt/conda/lib/python3.10/site-packages (from evaluate) (0.70.16)\n",
      "Requirement already satisfied: fsspec>=2021.05.0 in /opt/conda/lib/python3.10/site-packages (from fsspec[http]>=2021.05.0->evaluate) (2024.2.0)\n",
      "Requirement already satisfied: huggingface-hub>=0.7.0 in /opt/conda/lib/python3.10/site-packages (from evaluate) (0.22.2)\n",
      "Requirement already satisfied: packaging in /opt/conda/lib/python3.10/site-packages (from evaluate) (21.3)\n",
      "Requirement already satisfied: responses<0.19 in /opt/conda/lib/python3.10/site-packages (from evaluate) (0.18.0)\n",
      "Requirement already satisfied: filelock in /opt/conda/lib/python3.10/site-packages (from datasets>=2.0.0->evaluate) (3.13.1)\n",
      "Requirement already satisfied: pyarrow>=12.0.0 in /opt/conda/lib/python3.10/site-packages (from datasets>=2.0.0->evaluate) (15.0.2)\n",
      "Requirement already satisfied: pyarrow-hotfix in /opt/conda/lib/python3.10/site-packages (from datasets>=2.0.0->evaluate) (0.6)\n",
      "Requirement already satisfied: aiohttp in /opt/conda/lib/python3.10/site-packages (from datasets>=2.0.0->evaluate) (3.9.1)\n",
      "Requirement already satisfied: pyyaml>=5.1 in /opt/conda/lib/python3.10/site-packages (from datasets>=2.0.0->evaluate) (6.0.1)\n",
      "Requirement already satisfied: typing-extensions>=3.7.4.3 in /opt/conda/lib/python3.10/site-packages (from huggingface-hub>=0.7.0->evaluate) (4.9.0)\n",
      "Requirement already satisfied: pyparsing!=3.0.5,>=2.0.2 in /opt/conda/lib/python3.10/site-packages (from packaging->evaluate) (3.1.1)\n",
      "Requirement already satisfied: charset-normalizer<4,>=2 in /opt/conda/lib/python3.10/site-packages (from requests>=2.19.0->evaluate) (3.3.2)\n",
      "Requirement already satisfied: idna<4,>=2.5 in /opt/conda/lib/python3.10/site-packages (from requests>=2.19.0->evaluate) (3.6)\n",
      "Requirement already satisfied: urllib3<3,>=1.21.1 in /opt/conda/lib/python3.10/site-packages (from requests>=2.19.0->evaluate) (1.26.18)\n",
      "Requirement already satisfied: certifi>=2017.4.17 in /opt/conda/lib/python3.10/site-packages (from requests>=2.19.0->evaluate) (2024.2.2)\n",
      "Requirement already satisfied: python-dateutil>=2.8.2 in /opt/conda/lib/python3.10/site-packages (from pandas->evaluate) (2.9.0.post0)\n",
      "Requirement already satisfied: pytz>=2020.1 in /opt/conda/lib/python3.10/site-packages (from pandas->evaluate) (2023.3.post1)\n",
      "Requirement already satisfied: tzdata>=2022.1 in /opt/conda/lib/python3.10/site-packages (from pandas->evaluate) (2023.4)\n",
      "Requirement already satisfied: attrs>=17.3.0 in /opt/conda/lib/python3.10/site-packages (from aiohttp->datasets>=2.0.0->evaluate) (23.2.0)\n",
      "Requirement already satisfied: multidict<7.0,>=4.5 in /opt/conda/lib/python3.10/site-packages (from aiohttp->datasets>=2.0.0->evaluate) (6.0.4)\n",
      "Requirement already satisfied: yarl<2.0,>=1.0 in /opt/conda/lib/python3.10/site-packages (from aiohttp->datasets>=2.0.0->evaluate) (1.9.3)\n",
      "Requirement already satisfied: frozenlist>=1.1.1 in /opt/conda/lib/python3.10/site-packages (from aiohttp->datasets>=2.0.0->evaluate) (1.4.1)\n",
      "Requirement already satisfied: aiosignal>=1.1.2 in /opt/conda/lib/python3.10/site-packages (from aiohttp->datasets>=2.0.0->evaluate) (1.3.1)\n",
      "Requirement already satisfied: async-timeout<5.0,>=4.0 in /opt/conda/lib/python3.10/site-packages (from aiohttp->datasets>=2.0.0->evaluate) (4.0.3)\n",
      "Requirement already satisfied: six>=1.5 in /opt/conda/lib/python3.10/site-packages (from python-dateutil>=2.8.2->pandas->evaluate) (1.16.0)\n",
      "Requirement already satisfied: rouge_score in /opt/conda/lib/python3.10/site-packages (0.1.2)\n",
      "Requirement already satisfied: absl-py in /opt/conda/lib/python3.10/site-packages (from rouge_score) (1.4.0)\n",
      "Requirement already satisfied: nltk in /opt/conda/lib/python3.10/site-packages (from rouge_score) (3.2.4)\n",
      "Requirement already satisfied: numpy in /opt/conda/lib/python3.10/site-packages (from rouge_score) (1.26.4)\n",
      "Requirement already satisfied: six>=1.14.0 in /opt/conda/lib/python3.10/site-packages (from rouge_score) (1.16.0)\n",
      "Requirement already satisfied: nltk in /opt/conda/lib/python3.10/site-packages (3.2.4)\n",
      "Requirement already satisfied: six in /opt/conda/lib/python3.10/site-packages (from nltk) (1.16.0)\n",
      "Note: you may need to restart the kernel to use updated packages.\n"
     ]
    }
   ],
   "source": [
    "!pip install evaluate\n",
    "!pip install rouge_score\n",
    "%pip install  nltk"
   ]
  },
  {
   "cell_type": "markdown",
   "metadata": {},
   "source": [
    "### Finction to calculate metrics and to readfiles"
   ]
  },
  {
   "cell_type": "code",
   "execution_count": 18,
   "metadata": {
    "execution": {
     "iopub.execute_input": "2024-04-18T10:36:48.079202Z",
     "iopub.status.busy": "2024-04-18T10:36:48.078841Z",
     "iopub.status.idle": "2024-04-18T10:36:48.087475Z",
     "shell.execute_reply": "2024-04-18T10:36:48.086533Z",
     "shell.execute_reply.started": "2024-04-18T10:36:48.079154Z"
    }
   },
   "outputs": [],
   "source": [
    "import evaluate\n",
    "import numpy as np\n",
    "import os\n",
    "from nltk.tokenize import word_tokenize\n",
    "def compute_metric(predictions,references):\n",
    "    bleu = evaluate.load(\"bleu\")\n",
    "    rogue = evaluate.load('rouge')\n",
    "    bleu_score = bleu.compute(predictions=predictions, references=references)\n",
    "    rogue_score = rogue.compute(predictions=predictions, references=references)\n",
    "    print(bleu_score)\n",
    "    print(\"=\"*15)\n",
    "    print(rogue_score)\n",
    "\n",
    "def openFiles(filepath):\n",
    "    with open(filepath, 'r',encoding='utf-8') as file:\n",
    "        data = file.readlines()\n",
    "        data = [line.strip().replace('\\u200d','') for line in data]\n",
    "        return data"
   ]
  },
  {
   "cell_type": "code",
   "execution_count": 19,
   "metadata": {
    "execution": {
     "iopub.execute_input": "2024-04-18T10:36:48.089026Z",
     "iopub.status.busy": "2024-04-18T10:36:48.088693Z",
     "iopub.status.idle": "2024-04-18T10:36:48.108758Z",
     "shell.execute_reply": "2024-04-18T10:36:48.107901Z",
     "shell.execute_reply.started": "2024-04-18T10:36:48.089003Z"
    }
   },
   "outputs": [],
   "source": [
    "path = '/kaggle/input/textdata/'\n",
    "hi_sentences = openFiles(path+'hi_sentences.txt')\n",
    "eng_sentences = openFiles(path+'eng_sentences.txt')\n",
    "mar_sentences = openFiles(path+'mar_sentences.txt')"
   ]
  },
  {
   "cell_type": "markdown",
   "metadata": {},
   "source": []
  },
  {
   "cell_type": "code",
   "execution_count": 20,
   "metadata": {
    "execution": {
     "iopub.execute_input": "2024-04-18T10:36:48.111329Z",
     "iopub.status.busy": "2024-04-18T10:36:48.110726Z",
     "iopub.status.idle": "2024-04-18T10:36:51.317820Z",
     "shell.execute_reply": "2024-04-18T10:36:51.316899Z",
     "shell.execute_reply.started": "2024-04-18T10:36:48.111305Z"
    }
   },
   "outputs": [
    {
     "name": "stdout",
     "output_type": "stream",
     "text": [
      "['यह भूमि के बढ़े हुए मूल्य पर कब्जा करने के लिए एक तंत्र प्रदान करता है।', 'इससे पता चलता है कि अंतर्राष्ट्रीय द्विपक्षीय सहयोग अब केवल राष्ट्रीय राजधानियों तक ही सीमित नहीं है, बल्कि अब यह हमारे राज्य की राजधानियों तक भी फैल गया है।', 'प्रधान मंत्री ने कहा कि सरकार गरीबों के लिए सस्ती स्वास्थ्य सेवा प्रदान करने पर केंद्रित है।', 'उन्होंने कहा कि नीति आयोग द्वारा पहचाने गए 115 आकांक्षी जिलों की तर्ज पर, राज्य राज्य के कुल ब्लॉकों में से 20 प्रतिशत को आकांक्षी ब्लॉक के रूप में पहचानने के लिए अपने स्वयं के मापदंडों को परिभाषित कर सकते हैं।', 'रूसी संघ के आर्थिक विकास मंत्रालय और नेशनल इंस्टीट्यूशन फॉर ट्रांसफॉर्मिंग इंडिया (नीति आयोग) के बीच समझौता ज्ञापन']\n",
      "\n",
      " Blue and rogue Scores for eng to hi translation by ChatGPT:\n",
      "===============\n",
      "{'bleu': 0.34521606579257097, 'precisions': [0.6384104469210852, 0.4154240725277347, 0.28982749873160835, 0.20277589708869329], 'brevity_penalty': 0.977021470820288, 'length_ratio': 0.9772814786291876, 'translation_length': 17766, 'reference_length': 18179}\n",
      "===============\n",
      "{'rouge1': 0.10404285714285713, 'rouge2': 0.025404761904761906, 'rougeL': 0.10260952380952382, 'rougeLsum': 0.10187380952380953}\n"
     ]
    }
   ],
   "source": [
    "# ============================English to Hindi====================================\n",
    "path = '/kaggle/input/textdata/'\n",
    "en_2_hi_sentences_chatgpt = openFiles(path+'en_2_hi_sentences_chatgpt.txt')\n",
    "print(en_2_hi_sentences_chatgpt[:5])\n",
    "print(\"\\n Blue and rogue Scores for eng to hi translation by ChatGPT:\")\n",
    "print(\"=\"*15)\n",
    "\n",
    "# Calculating required matrices where en_2_hi_sentences_chatgpt is translated hi sentence by ChatGPT and hi_sentences are original sentences\n",
    "# Slice based on minimum number of prediction-\n",
    "mini = min(len(en_2_hi_sentences_chatgpt),len(hi_sentences))\n",
    "compute_metric(en_2_hi_sentences_chatgpt[:mini],hi_sentences[:mini])"
   ]
  },
  {
   "cell_type": "code",
   "execution_count": 21,
   "metadata": {
    "execution": {
     "iopub.execute_input": "2024-04-18T10:36:51.319356Z",
     "iopub.status.busy": "2024-04-18T10:36:51.319050Z",
     "iopub.status.idle": "2024-04-18T10:36:54.759569Z",
     "shell.execute_reply": "2024-04-18T10:36:54.758579Z",
     "shell.execute_reply.started": "2024-04-18T10:36:51.319332Z"
    }
   },
   "outputs": [
    {
     "name": "stdout",
     "output_type": "stream",
     "text": [
      "['it growing land Value possession In to take Of For One Mechanism provide does Is.', 'From this it Address walks Is That international bilateral Collaboration Now Only National capitals till hee Limited No is , rather Its Expansion Now Our states of capitals till yes Went Is.', 'Prime Minister has Said That Government Of Attention the poor Of For economical Health Care System provide to do Of For concentrated Is ,', 'They Said That Policy commission By marked 115 aspirational districts of lines but , state aspirational block Of Form In State Of Total block Of 20 percent To marked to do Of For Our Self Of standards To Determined Tax Can Are.', 'Russian union Of Economic Development Ministry And India Change Of For National Institute ( Policy) Commission ) between agreement memorandum']\n",
      "\n",
      " Blue and rogue Scores for hi to eng translation by ChatGPT:\n",
      "===============\n",
      "{'bleu': 0.02495775330137034, 'precisions': [0.254772716175968, 0.04301627226528412, 0.0095227789200303, 0.0037176847403340195], 'brevity_penalty': 1.0, 'length_ratio': 1.1536641694361516, 'translation_length': 20481, 'reference_length': 17753}\n",
      "===============\n",
      "{'rouge1': 0.44303476298579303, 'rouge2': 0.11901453853317287, 'rougeL': 0.287711153417778, 'rougeLsum': 0.2875977406436938}\n"
     ]
    }
   ],
   "source": [
    "# ============================Hindi to English====================================\n",
    "path = '/kaggle/input/textdata/'\n",
    "hi_2_en_sentences_chatgpt = openFiles(path+'hi_2_en_sentences_chatgpt.txt')\n",
    "print(hi_2_en_sentences_chatgpt[:5])\n",
    "print(\"\\n Blue and rogue Scores for hi to eng translation by ChatGPT:\")\n",
    "print(\"=\"*15)\n",
    "\n",
    "# Calculating required matrices where hi_2_en_sentences_chatgpt is translated English sentence by ChatGPT and eng_sentences are original sentences\n",
    "# Slice based on minimum number of prediction-\n",
    "mini = min(len(hi_2_en_sentences_chatgpt),len(eng_sentences))\n",
    "compute_metric(hi_2_en_sentences_chatgpt[:mini], eng_sentences[:mini])"
   ]
  },
  {
   "cell_type": "code",
   "execution_count": 22,
   "metadata": {
    "execution": {
     "iopub.execute_input": "2024-04-18T10:36:54.761571Z",
     "iopub.status.busy": "2024-04-18T10:36:54.761223Z",
     "iopub.status.idle": "2024-04-18T10:36:57.967000Z",
     "shell.execute_reply": "2024-04-18T10:36:57.966085Z",
     "shell.execute_reply.started": "2024-04-18T10:36:54.761539Z"
    }
   },
   "outputs": [
    {
     "name": "stdout",
     "output_type": "stream",
     "text": [
      "['इस कारण भूमि बढ़ा हुआ कीमत पर काबू पाना करने के लिए एक तंत्र उपलब्ध था', 'अंतरराष्ट्रीय द्विपक्षीय सहयोग , यह केवल राष्ट्रीय राजधानियों को सीमित नहीं इसलिए राज्यों का राजधानी तक भी वह पहुँच गया क्या यह इस के द्वारा स्पष्ट था', 'गरीबो को खरीदने की सामर्थ्य स्वास्थ्य देखभाल की सुविधा उपलब्ध कराने पर सरकार के ज़ोर है', 'नीति आयोग द्वारा पसंद हो गया 115 महत्वाकांक्षी जिलों का जमीन पर राज्य अमेरिका भी राज्य में कुल तालुका का इसे स्वीकार करो तालुकों महत्वाकांक्षी तालुकों इसलिए चुनना कर सकते हैं', 'रूस का वित्तीय विकास मंत्रालय और भारत की नीति आयोग बीच में सद्भाव समझौता']\n",
      "\n",
      " Blue and rogue Scores for mr to hi translation by ChatGPT:\n",
      "===============\n",
      "{'bleu': 0.06465826341055388, 'precisions': [0.3182869206796019, 0.10209590346141632, 0.03755238893545683, 0.014322916666666666], 'brevity_penalty': 1.0, 'length_ratio': 1.0943396226415094, 'translation_length': 19894, 'reference_length': 18179}\n",
      "===============\n",
      "{'rouge1': 0.09739285714285716, 'rouge2': 0.018238095238095237, 'rougeL': 0.0963, 'rougeLsum': 0.09597619047619049}\n"
     ]
    }
   ],
   "source": [
    "# ============================Marathi to Hindi====================================\n",
    "path = '/kaggle/input/textdata/'\n",
    "mr_2_hi_sentences_chatgpt = openFiles(path+'mr_2_hi_sentences_chatgpt.txt')\n",
    "print(mr_2_hi_sentences_chatgpt[:5])\n",
    "print(\"\\n Blue and rogue Scores for mr to hi translation by ChatGPT:\")\n",
    "print(\"=\"*15)\n",
    "\n",
    "# Calculating required matrices where mr_2_hi_sentences_chatgpt is translated hi sentence by ChatGPT and hi_sentences are original sentences\n",
    "# Slice based on minimum number of prediction-\n",
    "mini = min(len(mr_2_hi_sentences_chatgpt),len(hi_sentences))\n",
    "compute_metric(mr_2_hi_sentences_chatgpt[:mini], hi_sentences[:mini])"
   ]
  },
  {
   "cell_type": "code",
   "execution_count": 23,
   "metadata": {
    "execution": {
     "iopub.execute_input": "2024-04-18T10:36:57.968629Z",
     "iopub.status.busy": "2024-04-18T10:36:57.968300Z",
     "iopub.status.idle": "2024-04-18T10:37:00.936601Z",
     "shell.execute_reply": "2024-04-18T10:37:00.935635Z",
     "shell.execute_reply.started": "2024-04-18T10:36:57.968601Z"
    }
   },
   "outputs": [
    {
     "name": "stdout",
     "output_type": "stream",
     "text": [
      "['ते वाढत आहे जमीन मूल्य ताबा मध्ये घेणे च्या च्या साठी एक यंत्रणा प्रदान करतो आहे.', 'या ते पत्ता फिरायला आहे ते आंतरराष्ट्रीय द्विपक्षीय सहयोग आता फक्त राष्ट्रीय राजधानी पर्यंत हे मर्यादित नाही आहे , त्याऐवजी त्याची विस्तार आता आमचे राज्ये च्या राजधानी पर्यंत होय गेला आहे.', 'पंतप्रधान आहे म्हणाले ते सरकार च्या लक्ष द्या गरीब च्या च्या साठी आर्थिक आरोग्य काळजी प्रणाली प्रदान करण्यासाठी च्या च्या साठी केंद्रित आहे ,', 'ते म्हणाले ते धोरण कमिशन द्वारे चिन्हांकित 115 महत्वाकांक्षी जिल्हे च्या ओळी पण , राज्य महत्वाकांक्षी ब्लॉक च्या फॉर्म मध्ये राज्य च्या एकूण ब्लॉक च्या 20 टक्के ला चिन्हांकित करण्यासाठी च्या च्या साठी आमचे स्व च्या मानके ला ठरवले कर करू शकतो आहेत.', 'रशियन संघ च्या आर्थिक विकास मंत्रालय आणि भारत बदला च्या च्या साठी राष्ट्रीय संस्था ( धोरण) आयोग ). यांच्यातील करार निवेदन']\n",
      "\n",
      " Blue and rogue Scores for hi to mr translation by ChatGPT:\n",
      "===============\n",
      "{'bleu': 0.03456529483218208, 'precisions': [0.2382940650164032, 0.060728109634899045, 0.016557205143771733, 0.005957595934816892], 'brevity_penalty': 1.0, 'length_ratio': 1.387161276977177, 'translation_length': 20118, 'reference_length': 14503}\n",
      "===============\n",
      "{'rouge1': 0.07492380952380952, 'rouge2': 0.013733333333333332, 'rougeL': 0.07439285714285712, 'rougeLsum': 0.07397857142857142}\n"
     ]
    }
   ],
   "source": [
    "# ============================Hindi to Marathi====================================\n",
    "path = '/kaggle/input/textdata/'\n",
    "hi_2_mr_sentences_chatgpt = openFiles(path+'hi_2_mr_sentences_chatgpt.txt')\n",
    "print(hi_2_mr_sentences_chatgpt[:5])\n",
    "print(\"\\n Blue and rogue Scores for hi to mr translation by ChatGPT:\")\n",
    "print(\"=\"*15)\n",
    "\n",
    "# Calculating required matrices where hi_2_mr_sentences_chatgpt is translated Marathi sentence by ChatGPT and mar_sentences are original sentences\n",
    "# Slice based on minimum number of prediction-\n",
    "mini = min(len(hi_2_mr_sentences_chatgpt),len(mar_sentences))\n",
    "compute_metric(hi_2_mr_sentences_chatgpt[:mini], mar_sentences[:mini])"
   ]
  },
  {
   "cell_type": "markdown",
   "metadata": {},
   "source": [
    "### 3: This assignment taught me these valuable lessons:"
   ]
  },
  {
   "cell_type": "markdown",
   "metadata": {},
   "source": [
    "#### Models Have Strengths and Weaknesses:\n",
    "Machine translation models have strengths and weaknesses based on training data quality, Some are better at certain translations than others for eg. in my assignment Hindi-> english translation is always performing better in all the models this concludes that we have better hindi to english labels available for hindi language than other Indian lang.\n",
    "\n",
    "#### Big Languages Get More Attention:\n",
    "Models trained on widely spoken languages like Hindi and English tend to be more polished, while languages like Marathi might not get as much love.\n",
    "\n",
    "#### Finetuning is Important: \n",
    "To get the best results, it's important to tweak and tailor the models specifically based on needs that is translation here.\n",
    "\n",
    "#### Scores: \n",
    "Evaluation metrics like BLEU and ROUGE scores are like report cards for these models—they help us see how well they're doing in a measurable way.\n",
    "\n",
    "At the end, I can feel that there is always Room for Improvement and there are lots of tricks we can use to make these models better, like giving them more examples to learn from, fine-tuning them for specific tasks, or even combining their powers. Overall, this assignment showed me the importance of adapting and refining machine translation to better serve different languages and communities."
   ]
  },
  {
   "cell_type": "code",
   "execution_count": null,
   "metadata": {},
   "outputs": [],
   "source": []
  }
 ],
 "metadata": {
  "kaggle": {
   "accelerator": "gpu",
   "dataSources": [
    {
     "datasetId": 4823707,
     "sourceId": 8154920,
     "sourceType": "datasetVersion"
    }
   ],
   "dockerImageVersionId": 30684,
   "isGpuEnabled": true,
   "isInternetEnabled": true,
   "language": "python",
   "sourceType": "notebook"
  },
  "kernelspec": {
   "display_name": "Python 3 (ipykernel)",
   "language": "python",
   "name": "python3"
  },
  "language_info": {
   "codemirror_mode": {
    "name": "ipython",
    "version": 3
   },
   "file_extension": ".py",
   "mimetype": "text/x-python",
   "name": "python",
   "nbconvert_exporter": "python",
   "pygments_lexer": "ipython3",
   "version": "3.11.5"
  }
 },
 "nbformat": 4,
 "nbformat_minor": 4
}
